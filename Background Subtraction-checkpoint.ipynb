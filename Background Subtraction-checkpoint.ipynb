{
 "cells": [
  {
   "cell_type": "code",
   "execution_count": null,
   "id": "c12babe2-aaa8-4c2b-ab60-f167b86084d3",
   "metadata": {},
   "outputs": [],
   "source": [
    "import cv2\n",
    "import time\n",
    "\n",
    "# Initialize video capture from webcam (or use a video file by replacing 0 with 'path_to_video.mp4')\n",
    "cap = cv2.VideoCapture(0)\n",
    "\n",
    "# Initialize background subtractors\n",
    "mog2_subtractor = cv2.createBackgroundSubtractorMOG2(history=500, varThreshold=50, detectShadows=True)\n",
    "knn_subtractor = cv2.createBackgroundSubtractorKNN(history=500, dist2Threshold=400.0, detectShadows=True)\n",
    "\n",
    "while True:\n",
    "    ret, frame = cap.read()\n",
    "    if not ret:\n",
    "        break\n",
    "\n",
    "    # Resize for performance (optional)\n",
    "    frame = cv2.resize(frame, (640, 480))\n",
    "\n",
    "    # Apply MOG2\n",
    "    fg_mask_mog2 = mog2_subtractor.apply(frame)\n",
    "\n",
    "    # Apply KNN\n",
    "    fg_mask_knn = knn_subtractor.apply(frame)\n",
    "\n",
    "    # Display original and foreground masks\n",
    "    cv2.imshow(\"Original\", frame)\n",
    "    cv2.imshow(\"MOG2\", fg_mask_mog2)\n",
    "    cv2.imshow(\"KNN\", fg_mask_knn)\n",
    "\n",
    "    # Exit with 'q'\n",
    "    if cv2.waitKey(1) & 0xFF == ord('q'):\n",
    "        break\n",
    "\n",
    "# Release resources\n",
    "cap.release()\n",
    "cv2.destroyAllWindows()"
   ]
  }
 ],
 "metadata": {
  "kernelspec": {
   "display_name": "Python 3 (ipykernel)",
   "language": "python",
   "name": "python3"
  },
  "language_info": {
   "codemirror_mode": {
    "name": "ipython",
    "version": 3
   },
   "file_extension": ".py",
   "mimetype": "text/x-python",
   "name": "python",
   "nbconvert_exporter": "python",
   "pygments_lexer": "ipython3",
   "version": "3.12.4"
  }
 },
 "nbformat": 4,
 "nbformat_minor": 5
}
